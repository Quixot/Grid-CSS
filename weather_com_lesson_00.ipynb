{
  "nbformat": 4,
  "nbformat_minor": 0,
  "metadata": {
    "colab": {
      "provenance": [],
      "authorship_tag": "ABX9TyOQ2SyhYUtqEZhnRAtUo6k6",
      "include_colab_link": true
    },
    "kernelspec": {
      "name": "python3",
      "display_name": "Python 3"
    },
    "language_info": {
      "name": "python"
    }
  },
  "cells": [
    {
      "cell_type": "markdown",
      "metadata": {
        "id": "view-in-github",
        "colab_type": "text"
      },
      "source": [
        "<a href=\"https://colab.research.google.com/github/Quixot/Grid-CSS/blob/master/weather_com_lesson_00.ipynb\" target=\"_parent\"><img src=\"https://colab.research.google.com/assets/colab-badge.svg\" alt=\"Open In Colab\"/></a>"
      ]
    },
    {
      "cell_type": "code",
      "execution_count": 1,
      "metadata": {
        "id": "IfARld_svzm2"
      },
      "outputs": [],
      "source": [
        "# Работа с коллекциями\n",
        "# Доступ к элементу по индексу\n",
        "\n",
        "my_list = [1,2,3,4,5]"
      ]
    },
    {
      "cell_type": "code",
      "source": [],
      "metadata": {
        "id": "OBD15QmzwD__"
      },
      "execution_count": null,
      "outputs": []
    }
  ]
}